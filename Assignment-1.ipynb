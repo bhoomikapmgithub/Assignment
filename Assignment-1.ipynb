{
  "nbformat": 4,
  "nbformat_minor": 0,
  "metadata": {
    "colab": {
      "provenance": []
    },
    "kernelspec": {
      "name": "python3",
      "display_name": "Python 3"
    },
    "language_info": {
      "name": "python"
    }
  },
  "cells": [
    {
      "cell_type": "code",
      "source": [
        "def find_occurrences(word):\n",
        "    char_count = {}\n",
        "\n",
        "    # Count occurrences of each character in the word\n",
        "    for char in word:\n",
        "        if char in char_count:\n",
        "            char_count[char] += 1\n",
        "        else:\n",
        "            char_count[char] = 1\n",
        "\n",
        "    # Find the least and most occurred characters\n",
        "    least_occurred = min(char_count, key=char_count.get)\n",
        "    most_occurred = max(char_count, key=char_count.get)\n",
        "\n",
        "    return least_occurred, most_occurred\n",
        "\n",
        "# Get input from the user\n",
        "user_input = input(\"Enter a word: \").lower()  # Convert to lowercase for case-insensitivity\n",
        "\n",
        "# Find occurrences\n",
        "least_occurred, most_occurred = find_occurrences(user_input)\n",
        "\n",
        "# Display results\n",
        "print(f\"The least occurred character is: '{least_occurred}'\")\n",
        "print(f\"The most occurred character is: '{most_occurred}'\")"
      ],
      "metadata": {
        "colab": {
          "base_uri": "https://localhost:8080/"
        },
        "id": "pKgfIDziOu0y",
        "outputId": "118df62c-6454-4e07-f591-c184900dcdd0"
      },
      "execution_count": 5,
      "outputs": [
        {
          "output_type": "stream",
          "name": "stdout",
          "text": [
            "Enter a word: beautiful\n",
            "The least occurred character is: 'b'\n",
            "The most occurred character is: 'u'\n"
          ]
        }
      ]
    }
  ]
}