{
  "nbformat": 4,
  "nbformat_minor": 0,
  "metadata": {
    "colab": {
      "provenance": []
    },
    "kernelspec": {
      "name": "python3",
      "display_name": "Python 3"
    },
    "language_info": {
      "name": "python"
    }
  },
  "cells": [
    {
      "cell_type": "code",
      "source": [
        "def min_max_sums(array, num_items):\n",
        "    # Sort the array in ascending order\n",
        "    sorted_array = sorted(array)\n",
        "\n",
        "    # Calculate the minimum sum by considering the first 'num_items' elements\n",
        "    min_sum = sum(sorted_array[:num_items])\n",
        "\n",
        "    # Calculate the maximum sum by considering the last 'num_items' elements\n",
        "    max_sum = sum(sorted_array[-num_items:])\n",
        "\n",
        "    return min_sum, max_sum\n",
        "\n",
        "# Example usage\n",
        "array = [4, 11, 1, 5, 10]\n",
        "num_items = 3\n",
        "min_sum, max_sum = min_max_sums(array, num_items)\n",
        "\n",
        "print(f\"Number of items to be considered: {num_items}\")\n",
        "print(f\"Min sum possible: {min_sum}\")\n",
        "print(f\"Max sum possible: {max_sum}\")"
      ],
      "metadata": {
        "colab": {
          "base_uri": "https://localhost:8080/"
        },
        "id": "8kPJ6hqcsa23",
        "outputId": "3d5dac3b-c7d3-4e3e-b90b-19afbb74c1e1"
      },
      "execution_count": 8,
      "outputs": [
        {
          "output_type": "stream",
          "name": "stdout",
          "text": [
            "Number of items to be considered: 3\n",
            "Min sum possible: 10\n",
            "Max sum possible: 26\n"
          ]
        }
      ]
    }
  ]
}